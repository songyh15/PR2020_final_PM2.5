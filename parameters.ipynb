{
 "cells": [
  {
   "cell_type": "code",
   "execution_count": 1,
   "metadata": {},
   "outputs": [],
   "source": [
    "import pandas as pd\n",
    "import numpy as np\n",
    "import os \n",
    "import time\n",
    "\n",
    "from sklearn.model_selection import train_test_split\n",
    "\n",
    "from sklearn.tree import DecisionTreeRegressor\n",
    "from sklearn.ensemble import RandomForestRegressor\n",
    "from sklearn.ensemble import AdaBoostRegressor\n",
    "from sklearn.ensemble import GradientBoostingRegressor\n",
    "\n",
    "def data_generate(data_pm25_filled):\n",
    "    data = []\n",
    "    label = []\n",
    "    data_pm25_filled_array = data_pm25_filled.iloc[:,3:].values\n",
    "    for i in range(data_pm25_filled_array.shape[0] -12 -6):\n",
    "        data_now = data_pm25_filled_array[i:i+12,:]\n",
    "        label_now = data_pm25_filled_array[i+12:i+18,:]\n",
    "        data.append(data_now)\n",
    "        label.append(label_now)\n",
    "    data = np.array(data)\n",
    "    label = np.array(label)\n",
    "    return data, label\n",
    "\n",
    "def Evaluation(label, predict):\n",
    "    MAE = np.mean(np.abs(label - predict))\n",
    "    RMSE = np.power(np.mean(np.power(label - predict,2)) ,0.5)\n",
    "\n",
    "    label_grade = label\n",
    "    label_grade[label_grade < 35] = 1\n",
    "    label_grade[label_grade > 250] = 6\n",
    "    label_grade[label_grade > 150] = 5\n",
    "    label_grade[label_grade > 115] = 4\n",
    "    label_grade[label_grade > 75] = 3\n",
    "    label_grade[label_grade > 35] = 2\n",
    "    \n",
    "    predict_grade = predict\n",
    "    predict_grade[predict_grade < 35] = 1\n",
    "    predict_grade[predict_grade > 250] = 6\n",
    "    predict_grade[predict_grade > 150] = 5\n",
    "    predict_grade[predict_grade > 115] = 4\n",
    "    predict_grade[predict_grade > 75] = 3\n",
    "    predict_grade[predict_grade > 35] = 2\n",
    "    \n",
    "    res = np.zeros(label_grade.shape)\n",
    "    res[label_grade == predict_grade] = 1\n",
    "    num_cor = res.sum()\n",
    "    num_all = res.shape[0] * res.shape[1]\n",
    "    prec = num_cor/num_all\n",
    "    return MAE,RMSE,prec"
   ]
  },
  {
   "cell_type": "code",
   "execution_count": 2,
   "metadata": {},
   "outputs": [
    {
     "name": "stderr",
     "output_type": "stream",
     "text": [
      "/data2/syh/ENTER/lib/python3.7/site-packages/IPython/core/interactiveshell.py:3058: DtypeWarning: Columns (1) have mixed types. Specify dtype option on import or set low_memory=False.\n",
      "  interactivity=interactivity, compiler=compiler, result=result)\n"
     ]
    }
   ],
   "source": [
    "data_all = pd.read_csv(\"data_all.csv\")\n",
    "# 选取pm2.5数据\n",
    "data_all_pm25 = data_all[data_all['type']=='PM2.5']\n",
    "# 删去无用的前三列\n",
    "data_all_pm25 = data_all_pm25.iloc[:,3:]\n",
    "# \"就近\"填充缺失数据\n",
    "data_all_pm25_filled = data_all_pm25.fillna(method='ffill')\n",
    "data_all_pm25_filled = data_all_pm25_filled.fillna(method='bfill')\n",
    "# 划分数据集\n",
    "data_train_pm25_filled = data_all_pm25_filled[data_all_pm25_filled['date'] < 20200000]\n",
    "data_train_pm25_filled = data_train_pm25_filled[data_train_pm25_filled['date'] > 20150000]\n",
    "data_val_pm25_filled = data_all_pm25_filled[data_all_pm25_filled['date'] > 20200000]\n",
    "data_test_pm25_filled = data_all_pm25_filled[data_all_pm25_filled['date'] < 20150000]\n",
    "# 制作时序数据集\n",
    "train_data,train_label = data_generate(data_train_pm25_filled)\n",
    "val_data,val_label = data_generate(data_val_pm25_filled)\n",
    "test_data,test_label = data_generate(data_test_pm25_filled)"
   ]
  },
  {
   "cell_type": "code",
   "execution_count": 3,
   "metadata": {},
   "outputs": [
    {
     "name": "stdout",
     "output_type": "stream",
     "text": [
      "training with certain depth\n",
      "DecisionTreeRegressor(criterion='mse', max_depth=50, max_features=None,\n",
      "                      max_leaf_nodes=None, min_impurity_decrease=0.0,\n",
      "                      min_impurity_split=None, min_samples_leaf=1,\n",
      "                      min_samples_split=2, min_weight_fraction_leaf=0.0,\n",
      "                      presort=False, random_state=None, splitter='best')\n",
      "training lasted: 124.76740097999573\n",
      "DecisionTreeRegressor(criterion='mse', max_depth=40, max_features=None,\n",
      "                      max_leaf_nodes=None, min_impurity_decrease=0.0,\n",
      "                      min_impurity_split=None, min_samples_leaf=1,\n",
      "                      min_samples_split=2, min_weight_fraction_leaf=0.0,\n",
      "                      presort=False, random_state=None, splitter='best')\n",
      "training lasted: 124.28532981872559\n",
      "DecisionTreeRegressor(criterion='mse', max_depth=30, max_features=None,\n",
      "                      max_leaf_nodes=None, min_impurity_decrease=0.0,\n",
      "                      min_impurity_split=None, min_samples_leaf=1,\n",
      "                      min_samples_split=2, min_weight_fraction_leaf=0.0,\n",
      "                      presort=False, random_state=None, splitter='best')\n",
      "training lasted: 118.79241347312927\n"
     ]
    }
   ],
   "source": [
    "# 训练并测试模型\n",
    "print('training with certain depth')\n",
    "# models = [DecisionTreeRegressor(),RandomForestRegressor(),AdaBoostRegressor(),GradientBoostingRegressor()]\n",
    "models = []\n",
    "max_depth = [50,40,30]\n",
    "for d in max_depth:\n",
    "    models.append(DecisionTreeRegressor(max_depth=d))\n",
    "\n",
    "train_predict_all = []\n",
    "val_predict_all = []\n",
    "test_predict_all = []\n",
    "\n",
    "for model_now in models:\n",
    "    print(model_now)\n",
    "    start = time.time()\n",
    "    train_predict = np.zeros(train_label.shape)\n",
    "    val_predict = np.zeros(val_label.shape)\n",
    "    test_predict = np.zeros(test_label.shape)\n",
    "    \n",
    "    for ti in range(train_label.shape[1]):\n",
    "        for lo in range(train_label.shape[2]):\n",
    "            model_now.fit(train_data[:,:,lo], train_label[:,ti,lo])\n",
    "            train_predict[:,ti,lo] = model_now.predict(train_data[:,:,lo])\n",
    "            val_predict[:,ti,lo] = model_now.predict(val_data[:,:,lo])\n",
    "            test_predict[:,ti,lo] = model_now.predict(test_data[:,:,lo])\n",
    "            \n",
    "    train_predict_all.append(train_predict)\n",
    "    val_predict_all.append(val_predict)\n",
    "    test_predict_all.append(test_predict)\n",
    "    end = time.time()\n",
    "    print('training lasted: '+str(end-start))"
   ]
  },
  {
   "cell_type": "code",
   "execution_count": 4,
   "metadata": {},
   "outputs": [
    {
     "name": "stdout",
     "output_type": "stream",
     "text": [
      "DecisionTreeRegressor(criterion='mse', max_depth=50, max_features=None,\n",
      "                      max_leaf_nodes=None, min_impurity_decrease=0.0,\n",
      "                      min_impurity_split=None, min_samples_leaf=1,\n",
      "                      min_samples_split=2, min_weight_fraction_leaf=0.0,\n",
      "                      presort=False, random_state=None, splitter='best')\n",
      "time:1 MAE = 9.423905543580366 RMSE = 18.52055175053245 PREC = 0.8090220612446494\n",
      "time:2 MAE = 14.890913069875047 RMSE = 27.91793444212593 PREC = 0.7215108895056211\n",
      "time:3 MAE = 19.041848183260637 RMSE = 34.18655100757732 PREC = 0.6596641422456372\n",
      "time:4 MAE = 22.34809235213685 RMSE = 38.49685982304607 PREC = 0.6166988099158004\n",
      "time:5 MAE = 25.501135680740845 RMSE = 43.45373169150281 PREC = 0.5823227809398372\n",
      "time:6 MAE = 28.0690352770722 RMSE = 47.09512645513467 PREC = 0.5557081706571334\n",
      "DecisionTreeRegressor(criterion='mse', max_depth=40, max_features=None,\n",
      "                      max_leaf_nodes=None, min_impurity_decrease=0.0,\n",
      "                      min_impurity_split=None, min_samples_leaf=1,\n",
      "                      min_samples_split=2, min_weight_fraction_leaf=0.0,\n",
      "                      presort=False, random_state=None, splitter='best')\n",
      "time:1 MAE = 47.64483262312043 RMSE = 70.30245356198661 PREC = 0.49697539865468743\n",
      "time:2 MAE = 48.12371305089257 RMSE = 71.35695939865776 PREC = 0.49747401100710287\n",
      "time:3 MAE = 48.63273376834182 RMSE = 72.31867702463647 PREC = 0.49459523025542124\n",
      "time:4 MAE = 48.924216902757905 RMSE = 72.53744301167687 PREC = 0.49524436709158476\n",
      "time:5 MAE = 49.314658326441545 RMSE = 73.50393306576576 PREC = 0.4938049767157439\n",
      "time:6 MAE = 49.941690950347116 RMSE = 75.12500800852713 PREC = 0.4929018298132556\n",
      "DecisionTreeRegressor(criterion='mse', max_depth=30, max_features=None,\n",
      "                      max_leaf_nodes=None, min_impurity_decrease=0.0,\n",
      "                      min_impurity_split=None, min_samples_leaf=1,\n",
      "                      min_samples_split=2, min_weight_fraction_leaf=0.0,\n",
      "                      presort=False, random_state=None, splitter='best')\n",
      "time:1 MAE = 48.490811880177574 RMSE = 71.63329754449998 PREC = 0.4981513711839691\n",
      "time:2 MAE = 48.93909773890296 RMSE = 72.42230403098876 PREC = 0.4957617950044687\n",
      "time:3 MAE = 49.480745264740996 RMSE = 73.32525402020687 PREC = 0.49341925772613954\n",
      "time:4 MAE = 49.846176703258145 RMSE = 73.79850122182286 PREC = 0.491396584975775\n",
      "time:5 MAE = 50.232199136126255 RMSE = 74.43559423869866 PREC = 0.4873418316948116\n",
      "time:6 MAE = 50.69418211072584 RMSE = 75.64063011833343 PREC = 0.4853944211863211\n"
     ]
    }
   ],
   "source": [
    "# 评价模型性能\n",
    "for m in range(3):\n",
    "    print(models[m])\n",
    "    for i in range(6):\n",
    "        MAE, RMSE,PREC= Evaluation(val_label[:,i,:], val_predict_all[m][:,i,:])\n",
    "        print('time:'+str(i+1)+' '+'MAE = '+str(MAE)+' '+'RMSE = '+str(RMSE)+' '+'PREC = '+str(PREC))"
   ]
  },
  {
   "cell_type": "code",
   "execution_count": null,
   "metadata": {},
   "outputs": [],
   "source": []
  }
 ],
 "metadata": {
  "kernelspec": {
   "display_name": "Python 3",
   "language": "python",
   "name": "python3"
  },
  "language_info": {
   "codemirror_mode": {
    "name": "ipython",
    "version": 3
   },
   "file_extension": ".py",
   "mimetype": "text/x-python",
   "name": "python",
   "nbconvert_exporter": "python",
   "pygments_lexer": "ipython3",
   "version": "3.7.4"
  }
 },
 "nbformat": 4,
 "nbformat_minor": 2
}
