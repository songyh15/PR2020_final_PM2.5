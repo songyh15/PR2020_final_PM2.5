{
 "cells": [
  {
   "cell_type": "code",
   "execution_count": 1,
   "metadata": {},
   "outputs": [],
   "source": [
    "import pandas as pd\n",
    "import numpy as np\n",
    "import os \n",
    "import time\n",
    "\n",
    "from sklearn.model_selection import train_test_split\n",
    "\n",
    "from sklearn.tree import DecisionTreeRegressor\n",
    "from sklearn.ensemble import RandomForestRegressor\n",
    "from sklearn.ensemble import AdaBoostRegressor\n",
    "from sklearn.ensemble import GradientBoostingRegressor\n",
    "\n",
    "from multiprocessing import Pool\n",
    "\n",
    "def data_generate(data_type_filled):\n",
    "    time_in = 12\n",
    "    time_out = 6\n",
    "    num_sample = data_type_filled['PM2.5'].shape[0] -time_in -time_out\n",
    "    num_loc = data_type_filled['PM2.5'].shape[1] -3\n",
    "    num_feature = len(data_type_filled)\n",
    "    data = []\n",
    "    label = []\n",
    "    data_filled_array = {}\n",
    "    for type_now in data_type_filled:\n",
    "        data_filled_array[type_now] = data_type_filled[type_now].iloc[:,3:].values\n",
    "        \n",
    "    start = time.time()\n",
    "    for i in range(0,num_sample):\n",
    "        data_now = np.zeros([time_in, num_feature, num_loc])\n",
    "        label_now = np.zeros([time_out,num_loc])\n",
    "        feature_now = -1\n",
    "        \n",
    "        # 判断date是否连续\n",
    "        if data_type_filled['PM2.5'].iloc[i+time_in+time_out-1,0] - data_type_filled['PM2.5'].iloc[i,0] < 2:\n",
    "            # 判断hour是否连续\n",
    "            if data_type_filled['PM2.5'].iloc[i+time_in+time_out-1,1] == (data_type_filled['PM2.5'].iloc[i,1] + time_in+time_out-1)%24: \n",
    "                for type_now in data_type_filled:\n",
    "                    feature_now = feature_now +1\n",
    "                    data_now[:,feature_now,:] = data_filled_array[type_now][i:i+time_in,:]\n",
    "                    if type_now == 'PM2.5':\n",
    "                        label_now = data_filled_array[type_now][i+time_in:i+time_in+time_out,:]\n",
    "                        \n",
    "                data_now = data_now.reshape((time_in*num_feature,num_loc))\n",
    "                data.append(data_now)\n",
    "                label.append(label_now)\n",
    "        \n",
    "    end = time.time()\n",
    "#     print('data generating lasted: '+str(end-start))\n",
    "                \n",
    "    data = np.array(data)\n",
    "    label = np.array(label)\n",
    "    return data, label\n",
    "\n",
    "def Evaluation(label, predict):\n",
    "    MAE = np.mean(np.abs(label - predict))\n",
    "    RMSE = np.power(np.mean(np.power(label - predict,2)) ,0.5)\n",
    "\n",
    "    label_grade = label.copy()\n",
    "    label_grade[label_grade < 35] = 1\n",
    "    label_grade[label_grade > 250] = 6\n",
    "    label_grade[label_grade > 150] = 5\n",
    "    label_grade[label_grade > 115] = 4\n",
    "    label_grade[label_grade > 75] = 3\n",
    "    label_grade[label_grade > 35] = 2\n",
    "    \n",
    "    predict_grade = predict.copy()\n",
    "    predict_grade[predict_grade < 35] = 1\n",
    "    predict_grade[predict_grade > 250] = 6\n",
    "    predict_grade[predict_grade > 150] = 5\n",
    "    predict_grade[predict_grade > 115] = 4\n",
    "    predict_grade[predict_grade > 75] = 3\n",
    "    predict_grade[predict_grade > 35] = 2\n",
    "    \n",
    "    res = np.zeros(label_grade.shape)\n",
    "    res[label_grade == predict_grade] = 1\n",
    "    num_cor = res.sum()\n",
    "    num_all = res.shape[0] * res.shape[1]\n",
    "    prec = num_cor/num_all\n",
    "    return MAE,RMSE,prec"
   ]
  },
  {
   "cell_type": "code",
   "execution_count": null,
   "metadata": {},
   "outputs": [],
   "source": []
  },
  {
   "cell_type": "code",
   "execution_count": 10,
   "metadata": {},
   "outputs": [],
   "source": [
    "data_all = pd.read_csv(\"data_all.csv\")\n",
    "# data_extra = pd.read_csv(\"data_extra.csv\")"
   ]
  },
  {
   "cell_type": "code",
   "execution_count": 14,
   "metadata": {},
   "outputs": [],
   "source": [
    "# 删去无用的前一列\n",
    "data_all = data_all.iloc[:,1:]\n",
    "# data_extra = data_extra.iloc[:,3:]\n",
    "\n",
    "# 删去缺失了一半PM2.5数据的植物园\n",
    "data_all = data_all.drop(columns=['植物园'])\n",
    "\n",
    "# # 删去20170702-20170708\n",
    "# data_all = data_all.drop(index= range(148393,148456))\n",
    "\n"
   ]
  },
  {
   "cell_type": "code",
   "execution_count": 12,
   "metadata": {},
   "outputs": [],
   "source": [
    "# 选取PM2.5数据\n",
    "data_all = data_all[data_all['type']=='PM2.5']"
   ]
  },
  {
   "cell_type": "code",
   "execution_count": 52,
   "metadata": {},
   "outputs": [
    {
     "data": {
      "text/plain": [
       "nan"
      ]
     },
     "execution_count": 52,
     "metadata": {},
     "output_type": "execute_result"
    }
   ],
   "source": [
    "data_all['密云水库'].iloc[0]"
   ]
  },
  {
   "cell_type": "code",
   "execution_count": 56,
   "metadata": {},
   "outputs": [
    {
     "data": {
      "text/plain": [
       "False"
      ]
     },
     "execution_count": 56,
     "metadata": {},
     "output_type": "execute_result"
    }
   ],
   "source": [
    "np.isnan(data_all['密云水库'].iloc[1]) and np.isnan(data_all['密云水库'].iloc[0])"
   ]
  },
  {
   "cell_type": "code",
   "execution_count": 50,
   "metadata": {},
   "outputs": [
    {
     "name": "stdout",
     "output_type": "stream",
     "text": [
      "1\n"
     ]
    }
   ],
   "source": [
    "if data_all['密云水库'].iloc[0]:\n",
    "    print('1')"
   ]
  },
  {
   "cell_type": "code",
   "execution_count": 57,
   "metadata": {},
   "outputs": [],
   "source": [
    "count_allnan = 0\n",
    "count_nan = 0\n",
    "for col in range(3,data_all.shape[1]):\n",
    "    for row in range(1,data_all.shape[0]-1):\n",
    "        if np.isnan(data_all.iloc[row,col]):\n",
    "            count_nan = count_nan + 1\n",
    "            if np.isnan(data_all.iloc[row-1,col]) and np.isnan(data_all.iloc[row+1,col]):\n",
    "                count_allnan = count_allnan+1\n",
    "                "
   ]
  },
  {
   "cell_type": "code",
   "execution_count": 58,
   "metadata": {},
   "outputs": [
    {
     "data": {
      "text/plain": [
       "73862"
      ]
     },
     "execution_count": 58,
     "metadata": {},
     "output_type": "execute_result"
    }
   ],
   "source": [
    "count_nan"
   ]
  },
  {
   "cell_type": "code",
   "execution_count": 59,
   "metadata": {},
   "outputs": [
    {
     "data": {
      "text/plain": [
       "43996"
      ]
     },
     "execution_count": 59,
     "metadata": {},
     "output_type": "execute_result"
    }
   ],
   "source": [
    "count_allnan"
   ]
  },
  {
   "cell_type": "code",
   "execution_count": null,
   "metadata": {},
   "outputs": [],
   "source": []
  },
  {
   "cell_type": "code",
   "execution_count": 60,
   "metadata": {
    "scrolled": true
   },
   "outputs": [
    {
     "data": {
      "text/html": [
       "<div>\n",
       "<style scoped>\n",
       "    .dataframe tbody tr th:only-of-type {\n",
       "        vertical-align: middle;\n",
       "    }\n",
       "\n",
       "    .dataframe tbody tr th {\n",
       "        vertical-align: top;\n",
       "    }\n",
       "\n",
       "    .dataframe thead th {\n",
       "        text-align: right;\n",
       "    }\n",
       "</style>\n",
       "<table border=\"1\" class=\"dataframe\">\n",
       "  <thead>\n",
       "    <tr style=\"text-align: right;\">\n",
       "      <th></th>\n",
       "      <th>count</th>\n",
       "      <th>ratio</th>\n",
       "    </tr>\n",
       "  </thead>\n",
       "  <tbody>\n",
       "    <tr>\n",
       "      <td>南三环</td>\n",
       "      <td>4894</td>\n",
       "      <td>0.090382</td>\n",
       "    </tr>\n",
       "    <tr>\n",
       "      <td>琉璃河</td>\n",
       "      <td>4727</td>\n",
       "      <td>0.087298</td>\n",
       "    </tr>\n",
       "    <tr>\n",
       "      <td>东四环</td>\n",
       "      <td>4265</td>\n",
       "      <td>0.078766</td>\n",
       "    </tr>\n",
       "    <tr>\n",
       "      <td>八达岭</td>\n",
       "      <td>4038</td>\n",
       "      <td>0.074573</td>\n",
       "    </tr>\n",
       "    <tr>\n",
       "      <td>榆垡</td>\n",
       "      <td>3692</td>\n",
       "      <td>0.068183</td>\n",
       "    </tr>\n",
       "    <tr>\n",
       "      <td>通州</td>\n",
       "      <td>3085</td>\n",
       "      <td>0.056973</td>\n",
       "    </tr>\n",
       "    <tr>\n",
       "      <td>前门</td>\n",
       "      <td>2988</td>\n",
       "      <td>0.055182</td>\n",
       "    </tr>\n",
       "    <tr>\n",
       "      <td>东高村</td>\n",
       "      <td>2701</td>\n",
       "      <td>0.049882</td>\n",
       "    </tr>\n",
       "    <tr>\n",
       "      <td>密云水库</td>\n",
       "      <td>2590</td>\n",
       "      <td>0.047832</td>\n",
       "    </tr>\n",
       "    <tr>\n",
       "      <td>西直门北</td>\n",
       "      <td>2474</td>\n",
       "      <td>0.045690</td>\n",
       "    </tr>\n",
       "    <tr>\n",
       "      <td>北部新区</td>\n",
       "      <td>2400</td>\n",
       "      <td>0.044323</td>\n",
       "    </tr>\n",
       "    <tr>\n",
       "      <td>永乐店</td>\n",
       "      <td>2120</td>\n",
       "      <td>0.039152</td>\n",
       "    </tr>\n",
       "    <tr>\n",
       "      <td>永定门内</td>\n",
       "      <td>2005</td>\n",
       "      <td>0.037028</td>\n",
       "    </tr>\n",
       "    <tr>\n",
       "      <td>丰台花园</td>\n",
       "      <td>1873</td>\n",
       "      <td>0.034590</td>\n",
       "    </tr>\n",
       "    <tr>\n",
       "      <td>大兴</td>\n",
       "      <td>1830</td>\n",
       "      <td>0.033796</td>\n",
       "    </tr>\n",
       "    <tr>\n",
       "      <td>怀柔</td>\n",
       "      <td>1738</td>\n",
       "      <td>0.032097</td>\n",
       "    </tr>\n",
       "    <tr>\n",
       "      <td>门头沟</td>\n",
       "      <td>1704</td>\n",
       "      <td>0.031469</td>\n",
       "    </tr>\n",
       "    <tr>\n",
       "      <td>延庆</td>\n",
       "      <td>1696</td>\n",
       "      <td>0.031322</td>\n",
       "    </tr>\n",
       "    <tr>\n",
       "      <td>天坛</td>\n",
       "      <td>1638</td>\n",
       "      <td>0.030250</td>\n",
       "    </tr>\n",
       "    <tr>\n",
       "      <td>万寿西宫</td>\n",
       "      <td>1570</td>\n",
       "      <td>0.028995</td>\n",
       "    </tr>\n",
       "    <tr>\n",
       "      <td>云岗</td>\n",
       "      <td>1568</td>\n",
       "      <td>0.028958</td>\n",
       "    </tr>\n",
       "    <tr>\n",
       "      <td>平谷</td>\n",
       "      <td>1567</td>\n",
       "      <td>0.028939</td>\n",
       "    </tr>\n",
       "    <tr>\n",
       "      <td>奥体中心</td>\n",
       "      <td>1551</td>\n",
       "      <td>0.028644</td>\n",
       "    </tr>\n",
       "    <tr>\n",
       "      <td>昌平</td>\n",
       "      <td>1534</td>\n",
       "      <td>0.028330</td>\n",
       "    </tr>\n",
       "    <tr>\n",
       "      <td>亦庄</td>\n",
       "      <td>1449</td>\n",
       "      <td>0.026760</td>\n",
       "    </tr>\n",
       "    <tr>\n",
       "      <td>房山</td>\n",
       "      <td>1438</td>\n",
       "      <td>0.026557</td>\n",
       "    </tr>\n",
       "    <tr>\n",
       "      <td>顺义</td>\n",
       "      <td>1437</td>\n",
       "      <td>0.026538</td>\n",
       "    </tr>\n",
       "    <tr>\n",
       "      <td>古城</td>\n",
       "      <td>1428</td>\n",
       "      <td>0.026372</td>\n",
       "    </tr>\n",
       "    <tr>\n",
       "      <td>农展馆</td>\n",
       "      <td>1411</td>\n",
       "      <td>0.026058</td>\n",
       "    </tr>\n",
       "    <tr>\n",
       "      <td>东四</td>\n",
       "      <td>1405</td>\n",
       "      <td>0.025947</td>\n",
       "    </tr>\n",
       "    <tr>\n",
       "      <td>密云</td>\n",
       "      <td>1299</td>\n",
       "      <td>0.023990</td>\n",
       "    </tr>\n",
       "    <tr>\n",
       "      <td>官园</td>\n",
       "      <td>1296</td>\n",
       "      <td>0.023934</td>\n",
       "    </tr>\n",
       "    <tr>\n",
       "      <td>定陵</td>\n",
       "      <td>1227</td>\n",
       "      <td>0.022660</td>\n",
       "    </tr>\n",
       "    <tr>\n",
       "      <td>万柳</td>\n",
       "      <td>1226</td>\n",
       "      <td>0.022642</td>\n",
       "    </tr>\n",
       "    <tr>\n",
       "      <td>type</td>\n",
       "      <td>0</td>\n",
       "      <td>0.000000</td>\n",
       "    </tr>\n",
       "    <tr>\n",
       "      <td>hour</td>\n",
       "      <td>0</td>\n",
       "      <td>0.000000</td>\n",
       "    </tr>\n",
       "    <tr>\n",
       "      <td>date</td>\n",
       "      <td>0</td>\n",
       "      <td>0.000000</td>\n",
       "    </tr>\n",
       "  </tbody>\n",
       "</table>\n",
       "</div>"
      ],
      "text/plain": [
       "      count     ratio\n",
       "南三环    4894  0.090382\n",
       "琉璃河    4727  0.087298\n",
       "东四环    4265  0.078766\n",
       "八达岭    4038  0.074573\n",
       "榆垡     3692  0.068183\n",
       "通州     3085  0.056973\n",
       "前门     2988  0.055182\n",
       "东高村    2701  0.049882\n",
       "密云水库   2590  0.047832\n",
       "西直门北   2474  0.045690\n",
       "北部新区   2400  0.044323\n",
       "永乐店    2120  0.039152\n",
       "永定门内   2005  0.037028\n",
       "丰台花园   1873  0.034590\n",
       "大兴     1830  0.033796\n",
       "怀柔     1738  0.032097\n",
       "门头沟    1704  0.031469\n",
       "延庆     1696  0.031322\n",
       "天坛     1638  0.030250\n",
       "万寿西宫   1570  0.028995\n",
       "云岗     1568  0.028958\n",
       "平谷     1567  0.028939\n",
       "奥体中心   1551  0.028644\n",
       "昌平     1534  0.028330\n",
       "亦庄     1449  0.026760\n",
       "房山     1438  0.026557\n",
       "顺义     1437  0.026538\n",
       "古城     1428  0.026372\n",
       "农展馆    1411  0.026058\n",
       "东四     1405  0.025947\n",
       "密云     1299  0.023990\n",
       "官园     1296  0.023934\n",
       "定陵     1227  0.022660\n",
       "万柳     1226  0.022642\n",
       "type      0  0.000000\n",
       "hour      0  0.000000\n",
       "date      0  0.000000"
      ]
     },
     "execution_count": 60,
     "metadata": {},
     "output_type": "execute_result"
    }
   ],
   "source": [
    "# 查看全体数据缺失情况\n",
    "na_count = data_all.isnull().sum().sort_values(ascending=False)\n",
    "na_rate = na_count / len(data_all)\n",
    "na_data = pd.concat([na_count,na_rate],axis=1,keys=['count','ratio'])\n",
    "na_data"
   ]
  },
  {
   "cell_type": "code",
   "execution_count": null,
   "metadata": {},
   "outputs": [],
   "source": []
  },
  {
   "cell_type": "code",
   "execution_count": 16,
   "metadata": {},
   "outputs": [],
   "source": [
    "# 划分数据集\n",
    "data_train = data_all[data_all['date'] < 20200000]\n",
    "data_train = data_train[data_train['date'] > 20150000]\n",
    "data_val = data_all[data_all['date'] > 20200000]\n",
    "data_test = data_all[data_all['date'] < 20150000]"
   ]
  },
  {
   "cell_type": "code",
   "execution_count": 17,
   "metadata": {},
   "outputs": [],
   "source": [
    "# data_all_type = {}\n",
    "# for data_type in data_all['type'][0:5]:\n",
    "#     data_all_type[data_type] = data_all[data_all['type']==data_type]\n",
    "# for data_type in data_extra['type'][0:7]:\n",
    "#     data_all_type[data_type] = data_extra[data_extra['type']==data_type]\n",
    "\n",
    "data_train_type = {}\n",
    "for data_type in data_train['type'][0:5]:\n",
    "    data_train_type[data_type] = data_train[data_train['type']==data_type]\n",
    "data_val_type = {}\n",
    "for data_type in data_val['type'][0:5]:\n",
    "    data_val_type[data_type] = data_val[data_val['type']==data_type]\n",
    "data_test_type = {}\n",
    "for data_type in data_test['type'][0:5]:\n",
    "    data_test_type[data_type] = data_test[data_test['type']==data_type]"
   ]
  },
  {
   "cell_type": "code",
   "execution_count": 18,
   "metadata": {},
   "outputs": [],
   "source": [
    "# for type_now in data_all_type:\n",
    "#     data_all_type[type_now] = data_all_type[type_now].fillna(method='ffill')\n",
    "#     data_all_type[type_now] = data_all_type[type_now].fillna(method='bfill')\n",
    "for type_now in data_train_type:\n",
    "    data_train_type[type_now] = data_train_type[type_now].fillna(method='ffill')\n",
    "    data_train_type[type_now] = data_train_type[type_now].fillna(method='bfill')\n",
    "for type_now in data_val_type:\n",
    "    data_val_type[type_now] = data_val_type[type_now].fillna(method='ffill')\n",
    "    data_val_type[type_now] = data_val_type[type_now].fillna(method='bfill')\n",
    "for type_now in data_test_type:\n",
    "    data_test_type[type_now] = data_test_type[type_now].fillna(method='ffill')\n",
    "    data_test_type[type_now] = data_test_type[type_now].fillna(method='bfill')"
   ]
  },
  {
   "cell_type": "code",
   "execution_count": 22,
   "metadata": {
    "collapsed": true
   },
   "outputs": [
    {
     "name": "stdout",
     "output_type": "stream",
     "text": [
      "train\n",
      "0\n",
      "val\n",
      "0\n",
      "test\n",
      "0\n"
     ]
    }
   ],
   "source": [
    "# 查看数据缺失情况\n",
    "print('train')\n",
    "for type_now in data_train_type:\n",
    "    df = data_train_type[type_now] \n",
    "    na_count = df.isnull().sum().sort_values(ascending=False)\n",
    "    na_rate = na_count / len(df)\n",
    "    na_data = pd.concat([na_count,na_rate],axis=1,keys=['count','ratio'])\n",
    "    print(na_data['count'].max())\n",
    "print('val')\n",
    "for type_now in data_val_type:\n",
    "    df = data_val_type[type_now] \n",
    "    na_count = df.isnull().sum().sort_values(ascending=False)\n",
    "    na_rate = na_count / len(df)\n",
    "    na_data = pd.concat([na_count,na_rate],axis=1,keys=['count','ratio'])\n",
    "    print(na_data['count'].max())\n",
    "print('test')\n",
    "for type_now in data_test_type:\n",
    "    df = data_test_type[type_now] \n",
    "    na_count = df.isnull().sum().sort_values(ascending=False)\n",
    "    na_rate = na_count / len(df)\n",
    "    na_data = pd.concat([na_count,na_rate],axis=1,keys=['count','ratio'])\n",
    "    print(na_data['count'].max())"
   ]
  },
  {
   "cell_type": "code",
   "execution_count": 19,
   "metadata": {},
   "outputs": [],
   "source": [
    "# 制作时序数据集\n",
    "train_data,train_label = data_generate(data_train_type)\n",
    "val_data,val_label = data_generate(data_val_type)\n",
    "test_data,test_label = data_generate(data_test_type)"
   ]
  },
  {
   "cell_type": "code",
   "execution_count": 20,
   "metadata": {},
   "outputs": [
    {
     "data": {
      "text/plain": [
       "(39160, 12, 34)"
      ]
     },
     "execution_count": 20,
     "metadata": {},
     "output_type": "execute_result"
    }
   ],
   "source": [
    "train_data.shape"
   ]
  },
  {
   "cell_type": "code",
   "execution_count": 9,
   "metadata": {},
   "outputs": [
    {
     "data": {
      "text/plain": [
       "(42539, 12, 34)"
      ]
     },
     "execution_count": 9,
     "metadata": {},
     "output_type": "execute_result"
    }
   ],
   "source": [
    "train_data.shape"
   ]
  },
  {
   "cell_type": "code",
   "execution_count": null,
   "metadata": {},
   "outputs": [],
   "source": []
  },
  {
   "cell_type": "code",
   "execution_count": 21,
   "metadata": {},
   "outputs": [],
   "source": [
    "def para_pass(args):\n",
    "    return model_fitting(*args)\n",
    "\n",
    "def model_fitting(model_name,train_data,train_label,ti,lo):\n",
    "    if model_name =='DT':\n",
    "        model = DecisionTreeRegressor(max_depth = 50)\n",
    "    elif model_name =='RF':\n",
    "        model = RandomForestRegressor(n_estimators=50,max_depth = 50)\n",
    "    elif model_name =='Ada_DT':\n",
    "        model = AdaBoostRegressor(base_estimator = DecisionTreeRegressor(max_depth=50),n_estimators=50)\n",
    "    elif model_name =='GBDT':\n",
    "        model = GradientBoostingRegressor(n_estimators=10,max_depth = 50)\n",
    "        \n",
    "    model.fit(train_data[:,:,lo], train_label[:,ti,lo])\n",
    "    return [model, ti, lo]"
   ]
  },
  {
   "cell_type": "code",
   "execution_count": 17,
   "metadata": {
    "collapsed": true
   },
   "outputs": [
    {
     "data": {
      "text/plain": [
       "array([[[ 3. ,  6.9,  3. , ..., 33. ,  3. ,  3.4],\n",
       "        [ 3. ,  3.4,  5.2, ..., 55. ,  3. ,  4. ],\n",
       "        [ 3.9,  3. ,  4.4, ..., 41.1,  3. ,  5.5],\n",
       "        ...,\n",
       "        [ 7. ,  8.2,  3. , ..., 28.4,  3. ,  3.2],\n",
       "        [ 6.6, 12.2,  5.1, ..., 39.2, 10.1,  7.3],\n",
       "        [18.5, 14.4,  4.9, ..., 32.3, 29.7,  7.7]],\n",
       "\n",
       "       [[ 3. ,  3.4,  5.2, ..., 55. ,  3. ,  4. ],\n",
       "        [ 3.9,  3. ,  4.4, ..., 41.1,  3. ,  5.5],\n",
       "        [ 4.2,  4.5,  3. , ..., 17.2,  3. ,  4. ],\n",
       "        ...,\n",
       "        [ 6.6, 12.2,  5.1, ..., 39.2, 10.1,  7.3],\n",
       "        [18.5, 14.4,  4.9, ..., 32.3, 29.7,  7.7],\n",
       "        [50.5, 35.5, 21.8, ..., 37.6, 46.2, 12.8]],\n",
       "\n",
       "       [[ 3.9,  3. ,  4.4, ..., 41.1,  3. ,  5.5],\n",
       "        [ 4.2,  4.5,  3. , ..., 17.2,  3. ,  4. ],\n",
       "        [ 4.4,  4.4,  4. , ...,  9.9,  4.3,  4.7],\n",
       "        ...,\n",
       "        [18.5, 14.4,  4.9, ..., 32.3, 29.7,  7.7],\n",
       "        [50.5, 35.5, 21.8, ..., 37.6, 46.2, 12.8],\n",
       "        [57. , 32.7, 41.4, ..., 45.3, 44.3, 11.5]],\n",
       "\n",
       "       ...,\n",
       "\n",
       "       [[ 8. ,  8. ,  8. , ...,  5. , 15. ,  9. ],\n",
       "        [ 7. , 12. , 10. , ...,  7. , 13. ,  6. ],\n",
       "        [ 3. , 12. ,  7. , ...,  6. , 12. ,  5. ],\n",
       "        ...,\n",
       "        [27. , 26. , 22. , ..., 20. , 24. , 18. ],\n",
       "        [26. , 23. , 25. , ..., 22. , 21. , 18. ],\n",
       "        [29. , 26. , 34. , ..., 25. , 33. , 18. ]],\n",
       "\n",
       "       [[ 7. , 12. , 10. , ...,  7. , 13. ,  6. ],\n",
       "        [ 3. , 12. ,  7. , ...,  6. , 12. ,  5. ],\n",
       "        [10. , 11. , 11. , ...,  3. , 16. ,  8. ],\n",
       "        ...,\n",
       "        [26. , 23. , 25. , ..., 22. , 21. , 18. ],\n",
       "        [29. , 26. , 34. , ..., 25. , 33. , 18. ],\n",
       "        [30. , 28. , 29. , ..., 27. , 29. , 21. ]],\n",
       "\n",
       "       [[ 3. , 12. ,  7. , ...,  6. , 12. ,  5. ],\n",
       "        [10. , 11. , 11. , ...,  3. , 16. ,  8. ],\n",
       "        [18. , 12. , 10. , ...,  6. , 11. ,  6. ],\n",
       "        ...,\n",
       "        [29. , 26. , 34. , ..., 25. , 33. , 18. ],\n",
       "        [30. , 28. , 29. , ..., 27. , 29. , 21. ],\n",
       "        [28. , 25. , 26. , ..., 28. , 31. , 31. ]]])"
      ]
     },
     "execution_count": 17,
     "metadata": {},
     "output_type": "execute_result"
    }
   ],
   "source": [
    "train_data"
   ]
  },
  {
   "cell_type": "code",
   "execution_count": null,
   "metadata": {},
   "outputs": [],
   "source": []
  },
  {
   "cell_type": "code",
   "execution_count": 23,
   "metadata": {},
   "outputs": [
    {
     "name": "stdout",
     "output_type": "stream",
     "text": [
      "training\n",
      "DT\n",
      "training lasted: 26.324068784713745\n"
     ]
    }
   ],
   "source": [
    "# 训练并测试模型\n",
    "print('training')\n",
    "# DT = DecisionTreeRegressor(max_depth = 50)\n",
    "# RF = RandomForestRegressor(n_estimators=10,max_depth = 50)\n",
    "# Ada_DT = AdaBoostRegressor(base_estimator = DecisionTreeRegressor(max_depth=50),n_estimators=10)\n",
    "# GBDT = GradientBoostingRegressor(n_estimators=10,max_depth = 50)\n",
    "    \n",
    "models = ['DT']\n",
    "train_predict_all = []\n",
    "val_predict_all = []\n",
    "test_predict_all = []\n",
    "\n",
    "MultiNum = 16\n",
    "pool = Pool(processes=MultiNum)\n",
    "\n",
    "for model_now in models:\n",
    "    print(model_now)\n",
    "    start = time.time()\n",
    "    train_predict = np.zeros(train_label.shape)\n",
    "    val_predict = np.zeros(val_label.shape)\n",
    "    test_predict = np.zeros(test_label.shape)\n",
    "            \n",
    "### 并行算法 ###    \n",
    "    num_time = train_label.shape[1]\n",
    "    num_loc = train_label.shape[2]\n",
    "    \n",
    "    para_model = [model_now]*num_loc*num_time\n",
    "    para_train_data = [train_data]*num_loc*num_time\n",
    "    para_train_label = [train_label]*num_loc*num_time\n",
    "    para_loc = [lo for lo in range(num_loc)]*num_time\n",
    "\n",
    "# 时间和空间都并行\n",
    "    para_ti = [ti for ti in range(num_time) for lo in range(num_loc)]\n",
    "    para_list = list(zip(para_model, para_train_data,para_train_label,para_ti,para_loc))\n",
    "    model_fitted_list = pool.map(para_pass,para_list)\n",
    "    \n",
    "    for model_fitted, ti, lo in model_fitted_list:\n",
    "        train_predict[:,ti,lo] = model_fitted.predict(train_data[:,:,lo])\n",
    "        val_predict[:,ti,lo] = model_fitted.predict(val_data[:,:,lo])\n",
    "        test_predict[:,ti,lo] = model_fitted.predict(test_data[:,:,lo])\n",
    "\n",
    "\n",
    "# 时间串行，空间并行\n",
    "#     for ti in range(num_time):\n",
    "#         para_ti = [ti]*num_loc\n",
    "#         para_list = list(zip(para_model, para_train_data,para_train_label,para_ti,para_loc))\n",
    "#         model_fitted_list = pool.map(para_pass,para_list)\n",
    "#         for lo in range(num_loc):\n",
    "#             model_fitted = model_fitted_list[lo]\n",
    "#             train_predict[:,ti,lo] = model_fitted.predict(train_data[:,:,lo])\n",
    "#             val_predict[:,ti,lo] = model_fitted.predict(val_data[:,:,lo])\n",
    "#             test_predict[:,ti,lo] = model_fitted.predict(test_data[:,:,lo])\n",
    "            \n",
    "    train_predict_all.append(train_predict)\n",
    "    val_predict_all.append(val_predict)\n",
    "    test_predict_all.append(test_predict)\n",
    "    end = time.time()\n",
    "    print('training lasted: '+str(end-start))\n",
    "        \n",
    "pool.close()\n",
    "pool.join()\n",
    "            "
   ]
  },
  {
   "cell_type": "code",
   "execution_count": null,
   "metadata": {},
   "outputs": [],
   "source": []
  },
  {
   "cell_type": "code",
   "execution_count": 24,
   "metadata": {},
   "outputs": [
    {
     "name": "stdout",
     "output_type": "stream",
     "text": [
      "DT\n",
      "train error\n",
      "time:1 MAE = 0.05235185806703889 RMSE = 2.1411068056503515 PREC = 0.9992406717538905\n",
      "time:2 MAE = 0.10053102529014249 RMSE = 5.0924724218541755 PREC = 0.998771255182359\n",
      "time:3 MAE = 0.14068874673842952 RMSE = 6.684687044899804 PREC = 0.9982665384846482\n",
      "time:4 MAE = 0.1670474240983312 RMSE = 7.772946952804158 PREC = 0.9980472270624287\n",
      "time:5 MAE = 0.19099556720868724 RMSE = 8.580953115142538 PREC = 0.9976664363396023\n",
      "time:6 MAE = 0.21122054762371328 RMSE = 9.188646258301542 PREC = 0.9973419756053596\n",
      "val error\n",
      "time:1 MAE = 9.79873028030081 RMSE = 18.90146021493469 PREC = 0.8021541010770505\n",
      "time:2 MAE = 15.395994039455172 RMSE = 28.310481456904668 PREC = 0.7121996685998343\n",
      "time:3 MAE = 19.886002283488903 RMSE = 34.941206687292016 PREC = 0.6454121789560895\n",
      "time:4 MAE = 23.45562622422438 RMSE = 39.93313305658166 PREC = 0.6017812758906379\n",
      "time:5 MAE = 26.512668961854498 RMSE = 44.13321649842704 PREC = 0.5658864954432478\n",
      "time:6 MAE = 29.20662636832948 RMSE = 48.1185961453789 PREC = 0.5393227009113505\n",
      "test error\n",
      "time:1 MAE = 45.96778263419754 RMSE = 3758.583432204124 PREC = 0.7229217216429492\n",
      "time:2 MAE = 56.33600374394889 RMSE = 3759.330310905936 PREC = 0.6056171260774841\n",
      "time:3 MAE = 63.90918751203233 RMSE = 3759.6597583426233 PREC = 0.533135141830794\n",
      "time:4 MAE = 70.03553626580332 RMSE = 3760.2454845174398 PREC = 0.48473123920694255\n",
      "time:5 MAE = 75.14672991746522 RMSE = 3760.7932224590804 PREC = 0.44686718983394175\n",
      "time:6 MAE = 79.904600028559 RMSE = 3760.9502262310857 PREC = 0.4158706217529747\n"
     ]
    }
   ],
   "source": [
    "# 模型并行性能 :GT \n",
    "for m in range(len(models)):\n",
    "    print(models[m])\n",
    "    print('train error')\n",
    "    for i in range(6):\n",
    "        MAE, RMSE,PREC= Evaluation(train_label[:,i,:], train_predict_all[m][:,i,:])\n",
    "        print('time:'+str(i+1)+' '+'MAE = '+str(MAE)+' '+'RMSE = '+str(RMSE)+' '+'PREC = '+str(PREC))\n",
    "    print('val error')\n",
    "    for i in range(6):\n",
    "        MAE, RMSE,PREC= Evaluation(val_label[:,i,:], val_predict_all[m][:,i,:])\n",
    "        print('time:'+str(i+1)+' '+'MAE = '+str(MAE)+' '+'RMSE = '+str(RMSE)+' '+'PREC = '+str(PREC))\n",
    "    print('test error') \n",
    "    for i in range(6):\n",
    "        MAE, RMSE,PREC= Evaluation(test_label[:,i,:], test_predict_all[m][:,i,:])\n",
    "        print('time:'+str(i+1)+' '+'MAE = '+str(MAE)+' '+'RMSE = '+str(RMSE)+' '+'PREC = '+str(PREC))      "
   ]
  },
  {
   "cell_type": "code",
   "execution_count": null,
   "metadata": {},
   "outputs": [],
   "source": []
  },
  {
   "cell_type": "code",
   "execution_count": null,
   "metadata": {},
   "outputs": [],
   "source": []
  },
  {
   "cell_type": "code",
   "execution_count": null,
   "metadata": {},
   "outputs": [],
   "source": []
  },
  {
   "cell_type": "code",
   "execution_count": null,
   "metadata": {},
   "outputs": [],
   "source": []
  },
  {
   "cell_type": "code",
   "execution_count": null,
   "metadata": {},
   "outputs": [],
   "source": []
  },
  {
   "cell_type": "code",
   "execution_count": null,
   "metadata": {},
   "outputs": [],
   "source": []
  },
  {
   "cell_type": "code",
   "execution_count": null,
   "metadata": {},
   "outputs": [],
   "source": []
  },
  {
   "cell_type": "code",
   "execution_count": null,
   "metadata": {},
   "outputs": [],
   "source": []
  },
  {
   "cell_type": "code",
   "execution_count": null,
   "metadata": {},
   "outputs": [],
   "source": []
  },
  {
   "cell_type": "code",
   "execution_count": null,
   "metadata": {},
   "outputs": [],
   "source": []
  },
  {
   "cell_type": "code",
   "execution_count": 23,
   "metadata": {
    "collapsed": true
   },
   "outputs": [
    {
     "name": "stdout",
     "output_type": "stream",
     "text": [
      "GBDT\n",
      "train error\n",
      "time:1 MAE = 16.741882344222347 RMSE = 26.000435208563477 PREC = 0.70925918499702\n",
      "time:2 MAE = 16.766887901311435 RMSE = 26.305504838801443 PREC = 0.7088242899595251\n",
      "time:3 MAE = 16.78745389150949 RMSE = 26.567985033374878 PREC = 0.7085387388458757\n",
      "time:4 MAE = 16.802985498345688 RMSE = 26.784782194675827 PREC = 0.7083437620564105\n",
      "time:5 MAE = 16.8160327535023 RMSE = 26.962934975071818 PREC = 0.7081771329561938\n",
      "time:6 MAE = 16.8273511515282 RMSE = 27.104494597574085 PREC = 0.7080616679780354\n",
      "val error\n",
      "time:1 MAE = 16.995216060475638 RMSE = 23.414267573223988 PREC = 0.6910069921943094\n",
      "time:2 MAE = 19.792647422409395 RMSE = 28.300609027052857 PREC = 0.6419744717116349\n",
      "time:3 MAE = 22.166639036771308 RMSE = 32.12044449781434 PREC = 0.6034980340506304\n",
      "time:4 MAE = 24.26109295999262 RMSE = 35.20270439534844 PREC = 0.5692537139979469\n",
      "time:5 MAE = 26.334541362026354 RMSE = 38.32470877313603 PREC = 0.5383892773441283\n",
      "time:6 MAE = 27.941243748337428 RMSE = 40.997789555180375 PREC = 0.5166863584419609\n",
      "test error\n",
      "time:1 MAE = 53.996717003129 RMSE = 3665.6328941912648 PREC = 0.5867359658721035\n",
      "time:2 MAE = 59.56869877060336 RMSE = 3666.2336424348573 PREC = 0.5201630216484993\n",
      "time:3 MAE = 64.24324582784809 RMSE = 3666.603868943505 PREC = 0.4706332497680023\n",
      "time:4 MAE = 68.11435168785361 RMSE = 3666.7625454009362 PREC = 0.4352207094281084\n",
      "time:5 MAE = 71.6428261281448 RMSE = 3666.8777063750945 PREC = 0.40221124946328896\n",
      "time:6 MAE = 74.3911680768829 RMSE = 3667.5040567447472 PREC = 0.3820897796368371\n"
     ]
    }
   ],
   "source": [
    "# 模型并行性能 :GBFT 10棵子树\n",
    "for m in range(len(models)):\n",
    "    print(models[m])\n",
    "    print('train error')\n",
    "    for i in range(6):\n",
    "        MAE, RMSE,PREC= Evaluation(train_label[:,i,:], train_predict_all[m][:,i,:])\n",
    "        print('time:'+str(i+1)+' '+'MAE = '+str(MAE)+' '+'RMSE = '+str(RMSE)+' '+'PREC = '+str(PREC))\n",
    "    print('val error')\n",
    "    for i in range(6):\n",
    "        MAE, RMSE,PREC= Evaluation(val_label[:,i,:], val_predict_all[m][:,i,:])\n",
    "        print('time:'+str(i+1)+' '+'MAE = '+str(MAE)+' '+'RMSE = '+str(RMSE)+' '+'PREC = '+str(PREC))\n",
    "    print('test error') \n",
    "    for i in range(6):\n",
    "        MAE, RMSE,PREC= Evaluation(test_label[:,i,:], test_predict_all[m][:,i,:])\n",
    "        print('time:'+str(i+1)+' '+'MAE = '+str(MAE)+' '+'RMSE = '+str(RMSE)+' '+'PREC = '+str(PREC))      "
   ]
  },
  {
   "cell_type": "code",
   "execution_count": null,
   "metadata": {
    "scrolled": false
   },
   "outputs": [],
   "source": []
  },
  {
   "cell_type": "code",
   "execution_count": null,
   "metadata": {},
   "outputs": [],
   "source": []
  },
  {
   "cell_type": "code",
   "execution_count": null,
   "metadata": {},
   "outputs": [],
   "source": []
  },
  {
   "cell_type": "code",
   "execution_count": null,
   "metadata": {},
   "outputs": [],
   "source": []
  },
  {
   "cell_type": "code",
   "execution_count": 21,
   "metadata": {
    "collapsed": true
   },
   "outputs": [
    {
     "name": "stdout",
     "output_type": "stream",
     "text": [
      "RF\n",
      "train error\n",
      "time:1 MAE = 3.3675079199393516 RMSE = 8.24192910211966 PREC = 0.9326590270796488\n",
      "time:2 MAE = 5.246291141826144 RMSE = 11.775614400181503 PREC = 0.8985325576668054\n",
      "time:3 MAE = 6.701935247579758 RMSE = 14.23825125633195 PREC = 0.8721885660632527\n",
      "time:4 MAE = 7.912974581541557 RMSE = 16.251429404911146 PREC = 0.850454185294325\n",
      "time:5 MAE = 8.930252998906576 RMSE = 17.789144555571443 PREC = 0.8329422274093116\n",
      "time:6 MAE = 9.80011363095991 RMSE = 19.078382868191643 PREC = 0.8173108967134657\n",
      "val error\n",
      "time:1 MAE = 6.432085196867393 RMSE = 12.463064900590798 PREC = 0.867109570202793\n",
      "time:2 MAE = 10.143957268751905 RMSE = 18.679329110991905 PREC = 0.7956284258846772\n",
      "time:3 MAE = 13.175705623861505 RMSE = 23.213265938212942 PREC = 0.7410563830405392\n",
      "time:4 MAE = 15.690035096950883 RMSE = 26.55060614839297 PREC = 0.6990741637451819\n",
      "time:5 MAE = 17.879254802536256 RMSE = 29.33959506776362 PREC = 0.6627573650467761\n",
      "time:6 MAE = 19.740808420872987 RMSE = 31.753721109844978 PREC = 0.6324255747738674\n",
      "test error\n",
      "time:1 MAE = 39.31116666604679 RMSE = 3664.1485065259913 PREC = 0.797047050513165\n",
      "time:2 MAE = 46.703542592166364 RMSE = 3665.094452619805 PREC = 0.6931778833501849\n",
      "time:3 MAE = 52.48337736994623 RMSE = 3665.396154364413 PREC = 0.6207634454770842\n",
      "time:4 MAE = 57.210987705171235 RMSE = 3665.6407441772676 PREC = 0.5636573913766119\n",
      "time:5 MAE = 61.25940662956991 RMSE = 3665.9784486523927 PREC = 0.516807712018172\n",
      "time:6 MAE = 64.70993804339149 RMSE = 3666.3623624458746 PREC = 0.4800101109433649\n",
      "Ada_DT\n",
      "train error\n",
      "time:1 MAE = 2.845172895252903 RMSE = 12.592619328877406 PREC = 0.9434311489940719\n",
      "time:2 MAE = 3.4049808882750954 RMSE = 11.292385454723664 PREC = 0.9314857093075835\n",
      "time:3 MAE = 3.831847506487292 RMSE = 12.56490563185307 PREC = 0.9237723722037771\n",
      "time:4 MAE = 4.000295636782242 RMSE = 13.283753843531283 PREC = 0.9220604483359907\n",
      "time:5 MAE = 3.971633463498584 RMSE = 13.965891420701988 PREC = 0.9239625091438582\n",
      "time:6 MAE = 3.9215266460433424 RMSE = 14.081854190907936 PREC = 0.9259758864875554\n",
      "val error\n",
      "time:1 MAE = 6.490481665516378 RMSE = 12.484517131465203 PREC = 0.8628968215537779\n",
      "time:2 MAE = 10.110402228961284 RMSE = 18.650006750294114 PREC = 0.7913575703577447\n",
      "time:3 MAE = 13.08306424566467 RMSE = 23.247838660751757 PREC = 0.7389257975168995\n",
      "time:4 MAE = 15.613716843459866 RMSE = 26.947137826971765 PREC = 0.6959363923376397\n",
      "time:5 MAE = 17.767752037499637 RMSE = 29.936082481640337 PREC = 0.6622634565844777\n",
      "time:6 MAE = 19.62169690787735 RMSE = 32.37799847304502 PREC = 0.6328516918785954\n",
      "test error\n",
      "time:1 MAE = 39.391876481381075 RMSE = 3664.121152608438 PREC = 0.7956065873488553\n",
      "time:2 MAE = 46.719362491110004 RMSE = 3665.306975544203 PREC = 0.6918620756520173\n",
      "time:3 MAE = 52.40972396325811 RMSE = 3665.420473051489 PREC = 0.6234712392138395\n",
      "time:4 MAE = 57.182349842054485 RMSE = 3665.6977087380906 PREC = 0.5669261347110071\n",
      "time:5 MAE = 61.37026429824262 RMSE = 3666.0913454165316 PREC = 0.5221955982769845\n",
      "time:6 MAE = 65.08750632897716 RMSE = 3666.2228943736277 PREC = 0.4877283618886688\n"
     ]
    }
   ],
   "source": [
    "# 模型并行性能 :RF和Ada_DT都是50棵子树\n",
    "for m in range(len(models)):\n",
    "    print(models[m])\n",
    "    print('train error')\n",
    "    for i in range(6):\n",
    "        MAE, RMSE,PREC= Evaluation(train_label[:,i,:], train_predict_all[m][:,i,:])\n",
    "        print('time:'+str(i+1)+' '+'MAE = '+str(MAE)+' '+'RMSE = '+str(RMSE)+' '+'PREC = '+str(PREC))\n",
    "    print('val error')\n",
    "    for i in range(6):\n",
    "        MAE, RMSE,PREC= Evaluation(val_label[:,i,:], val_predict_all[m][:,i,:])\n",
    "        print('time:'+str(i+1)+' '+'MAE = '+str(MAE)+' '+'RMSE = '+str(RMSE)+' '+'PREC = '+str(PREC))\n",
    "    print('test error') \n",
    "    for i in range(6):\n",
    "        MAE, RMSE,PREC= Evaluation(test_label[:,i,:], test_predict_all[m][:,i,:])\n",
    "        print('time:'+str(i+1)+' '+'MAE = '+str(MAE)+' '+'RMSE = '+str(RMSE)+' '+'PREC = '+str(PREC))      "
   ]
  },
  {
   "cell_type": "code",
   "execution_count": null,
   "metadata": {},
   "outputs": [],
   "source": []
  },
  {
   "cell_type": "code",
   "execution_count": null,
   "metadata": {},
   "outputs": [],
   "source": []
  },
  {
   "cell_type": "code",
   "execution_count": null,
   "metadata": {},
   "outputs": [],
   "source": []
  },
  {
   "cell_type": "code",
   "execution_count": null,
   "metadata": {},
   "outputs": [],
   "source": []
  },
  {
   "cell_type": "code",
   "execution_count": null,
   "metadata": {},
   "outputs": [],
   "source": []
  },
  {
   "cell_type": "code",
   "execution_count": null,
   "metadata": {},
   "outputs": [],
   "source": []
  },
  {
   "cell_type": "code",
   "execution_count": null,
   "metadata": {},
   "outputs": [],
   "source": []
  },
  {
   "cell_type": "code",
   "execution_count": null,
   "metadata": {},
   "outputs": [],
   "source": []
  },
  {
   "cell_type": "code",
   "execution_count": 54,
   "metadata": {},
   "outputs": [],
   "source": []
  },
  {
   "cell_type": "code",
   "execution_count": null,
   "metadata": {},
   "outputs": [],
   "source": []
  },
  {
   "cell_type": "code",
   "execution_count": null,
   "metadata": {},
   "outputs": [],
   "source": []
  },
  {
   "cell_type": "code",
   "execution_count": null,
   "metadata": {},
   "outputs": [],
   "source": []
  },
  {
   "cell_type": "code",
   "execution_count": null,
   "metadata": {},
   "outputs": [],
   "source": []
  }
 ],
 "metadata": {
  "kernelspec": {
   "display_name": "Python 3",
   "language": "python",
   "name": "python3"
  },
  "language_info": {
   "codemirror_mode": {
    "name": "ipython",
    "version": 3
   },
   "file_extension": ".py",
   "mimetype": "text/x-python",
   "name": "python",
   "nbconvert_exporter": "python",
   "pygments_lexer": "ipython3",
   "version": "3.7.4"
  }
 },
 "nbformat": 4,
 "nbformat_minor": 2
}
