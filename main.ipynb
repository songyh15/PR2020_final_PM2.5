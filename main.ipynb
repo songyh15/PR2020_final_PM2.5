{
 "cells": [
  {
   "cell_type": "code",
   "execution_count": 1,
   "metadata": {},
   "outputs": [],
   "source": [
    "import pandas as pd\n",
    "import numpy as np\n",
    "from sklearn.ensemble import RandomForestClassifier\n",
    "from sklearn.ensemble import RandomForestRegressor\n",
    "from sklearn.preprocessing import LabelEncoder\n",
    "from sklearn.metrics import confusion_matrix\n",
    "from sklearn.metrics import classification_report\n",
    "import matplotlib.pyplot as plt\n",
    "import matplotlib\n",
    "from sklearn.model_selection import train_test_split\n"
   ]
  },
  {
   "cell_type": "code",
   "execution_count": 36,
   "metadata": {},
   "outputs": [],
   "source": [
    "data_all=pd.read_csv('data/beijing_all_20140101.csv')\n",
    "data_extra=pd.read_csv('data/beijing_extra_20140402.csv')"
   ]
  },
  {
   "cell_type": "code",
   "execution_count": null,
   "metadata": {},
   "outputs": [],
   "source": [
    "# "
   ]
  },
  {
   "cell_type": "code",
   "execution_count": 44,
   "metadata": {},
   "outputs": [],
   "source": [
    "# 划分训练集和验证集\n",
    "# data_train, data_test= train_test_split(data_all,test_size=0.1, random_state=0)\n",
    "# print (\"训练集统计描述：\\n\",data_train.describe().round(2))\n",
    "# print (\"验证集统计描述：\\n\",data_test.describe().round(2))\n",
    "# print (\"训练集信息：\\n\",data_train.ix[:,-1].value_counts())\n",
    "# print (\"验证集信息：\\n\",data_test.ix[:,-1].value_counts())"
   ]
  },
  {
   "cell_type": "code",
   "execution_count": null,
   "metadata": {},
   "outputs": [],
   "source": []
  },
  {
   "cell_type": "code",
   "execution_count": null,
   "metadata": {},
   "outputs": [],
   "source": []
  },
  {
   "cell_type": "code",
   "execution_count": null,
   "metadata": {},
   "outputs": [],
   "source": [
    "data=pd.read_csv('datasets/air_train&test.csv',index_col=0,encoding='gb2312')\n",
    "print (data.head())\n",
    "print (data.shape)\n",
    "index=data.index\n",
    "col=data.columns\n",
    "class_names=np.unique(data.ix[:,-1])\n",
    "#print (type(data))\n",
    "print (class_names)\n",
    "#print (data.describe())\n",
    "\n",
    "#划分训练集和验证集\n",
    "data_train, data_test= train_test_split(data,test_size=0.1, random_state=0)\n",
    "print (\"训练集统计描述：\\n\",data_train.describe().round(2))\n",
    "print (\"验证集统计描述：\\n\",data_test.describe().round(2))\n",
    "print (\"训练集信息：\\n\",data_train.ix[:,-1].value_counts())\n",
    "print (\"验证集信息：\\n\",data_test.ix[:,-1].value_counts())\n",
    "\n"
   ]
  }
 ],
 "metadata": {
  "kernelspec": {
   "display_name": "Python 3",
   "language": "python",
   "name": "python3"
  },
  "language_info": {
   "codemirror_mode": {
    "name": "ipython",
    "version": 3
   },
   "file_extension": ".py",
   "mimetype": "text/x-python",
   "name": "python",
   "nbconvert_exporter": "python",
   "pygments_lexer": "ipython3",
   "version": "3.7.4"
  }
 },
 "nbformat": 4,
 "nbformat_minor": 2
}
